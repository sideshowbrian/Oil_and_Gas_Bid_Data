{
 "cells": [
  {
   "cell_type": "markdown",
   "metadata": {},
   "source": [
    "The object of this program is loop through the fracfocus CSV files and add them to a SQLite database."
   ]
  },
  {
   "cell_type": "markdown",
   "metadata": {},
   "source": [
    "First we bring in the modules we need for this project"
   ]
  },
  {
   "cell_type": "code",
   "execution_count": 33,
   "metadata": {
    "collapsed": true
   },
   "outputs": [],
   "source": [
    "import sqlite3                     #Bring in Sqlite for the database\n",
    "\n",
    "from os import listdir             #Bring in OS to read all the files\n",
    "from os.path import isfile, join  \n",
    "\n",
    "import pandas as pd                #Bring in Pandas to work wiht the data"
   ]
  },
  {
   "cell_type": "markdown",
   "metadata": {},
   "source": [
    "Download the latest fracfocus data from http://fracfocus.org/data-download.  Download the csv files and save the unzipped files to your computer.  Then update 'mypath' below to that location.\n",
    "\n",
    "The program then loops throught the file names in the folder then saves them to 2 lists."
   ]
  },
  {
   "cell_type": "code",
   "execution_count": 14,
   "metadata": {
    "collapsed": false
   },
   "outputs": [],
   "source": [
    "mypath = \"C:/Users/BWeaver/Google Drive/FracFocus/FracFocus\"  #make sure the use back slashes or double forward slashes '\\\\'\n",
    "onlyfiles = [f for f in listdir(mypath) if isfile(join(mypath, f))]   #find files in the directory\n",
    "\n",
    "FracFocusRegistry_files = list()\n",
    "registryupload_files = list()\n",
    "\n",
    "#loop through list of files and add them to the two lists\n",
    "for file in onlyfiles:\n",
    "    if file[:17] == 'FracFocusRegistry':\n",
    "        FracFocusRegistry_files.append(file)\n",
    "    elif file[:14] == 'registryupload':\n",
    "        registryupload_files.append(file)"
   ]
  },
  {
   "cell_type": "markdown",
   "metadata": {},
   "source": [
    "The program will then build the SQLite database if the file isn't there.  If the file is there then it will delete the FracFocusRegistry and registryupload tables.  \n",
    "\n",
    "Then rebuild them with all the correct headers.  This was taken from the headers of the csv files"
   ]
  },
  {
   "cell_type": "code",
   "execution_count": 27,
   "metadata": {
    "collapsed": false
   },
   "outputs": [
    {
     "data": {
      "text/plain": [
       "<sqlite3.Cursor at 0x423d7180>"
      ]
     },
     "execution_count": 27,
     "metadata": {},
     "output_type": "execute_result"
    }
   ],
   "source": [
    "conn = sqlite3.connect(mypath + '/FracFocus.sqlite')\n",
    "cur = conn.cursor()\n",
    "\n",
    "cur.execute('''\n",
    "DROP TABLE IF EXISTS FracFocusRegistry;\n",
    "''')\n",
    "cur.execute('''\n",
    "CREATE TABLE FracFocusRegistry (\n",
    "    id                        INTEGER NOT NULL PRIMARY KEY AUTOINCREMENT UNIQUE,\n",
    "    UploadKey                 TEXT,\n",
    "    JobStartDate              NUMERIC,\n",
    "    JobEndDate                NUMERIC,\n",
    "    APINumber                 TEXT,\n",
    "    StateNumber               NUMERIC,\n",
    "    CountyNumber              NUMERIC,\n",
    "    OperatorName              TEXT,\n",
    "    WellName                  TEXT,\n",
    "    Latitude                  TEXT,\n",
    "    Longitude                 TEXT,\n",
    "    Projection                TEXT,\n",
    "    TVD                       TEXT,\n",
    "    TotalBaseWaterVolume      TEXT,\n",
    "    TotalBaseNonWaterVolume   TEXT,\n",
    "    StateName                 TEXT,\n",
    "    CountyName                TEXT,\n",
    "    FFVersion                 TEXT,\n",
    "    FederalWell               TEXT,\n",
    "    IndianWell                TEXT,\n",
    "    Source                    TEXT,\n",
    "    DTMOD                     TEXT,\n",
    "    PurposeKey                TEXT,\n",
    "    TradeName                 TEXT,\n",
    "    Supplier                  TEXT,\n",
    "    Purpose                   TEXT,\n",
    "    SystemApproach            TEXT,\n",
    "    IsWater                   TEXT,\n",
    "    PurposePercentHFJob       TEXT,\n",
    "    PurposeIngredientMSDS     TEXT,\n",
    "    IngredientKey             TEXT,\n",
    "    IngredientName            TEXT,\n",
    "    CASNumber                 TEXT,\n",
    "    PercentHighAdditive       TEXT,\n",
    "    PercentHFJob              TEXT,\n",
    "    IngredientComment         TEXT,\n",
    "    IngredientMSDS            TEXT,\n",
    "    MassIngredient            TEXT,\n",
    "    ClaimantCompany           TEXT,\n",
    "    DisclosureKey             TEXT\n",
    "    \n",
    ");\n",
    "''')\n",
    "\n",
    "cur.execute('''\n",
    "DROP TABLE IF EXISTS registryupload;\n",
    "''')\n",
    "\n",
    "cur.execute('''\n",
    "CREATE TABLE registryupload (\n",
    "    id                        INTEGER NOT NULL PRIMARY KEY AUTOINCREMENT UNIQUE,\n",
    "    pKey                      TEXT,\n",
    "    JobStartDate              NUMERIC,\n",
    "    JobEndDate                NUMERIC,\n",
    "    APINumber                 TEXT,\n",
    "    StateNumber               NUMERIC,\n",
    "    CountyNumber              NUMERIC,\n",
    "    OperatorName              TEXT,\n",
    "    WellName                  TEXT,\n",
    "    Latitude                  TEXT,\n",
    "    Longitude                 TEXT,\n",
    "    Projection                TEXT,\n",
    "    TVD                       TEXT,\n",
    "    TotalBaseWaterVolume      TEXT,\n",
    "    TotalBaseNonWaterVolume   TEXT,\n",
    "    StateName                 TEXT,\n",
    "    CountyName                TEXT,\n",
    "    FFVersion                 TEXT,\n",
    "    FederalWell               TEXT,\n",
    "    IndianWell                TEXT,\n",
    "    Source                    TEXT,\n",
    "    DTMOD                     TEXT\n",
    ");\n",
    "''')\n"
   ]
  },
  {
   "cell_type": "markdown",
   "metadata": {},
   "source": [
    "Now that the database is built we'll start loading it with data from the csv files.  Starting wiht the FracFocusRegistry."
   ]
  },
  {
   "cell_type": "code",
   "execution_count": 30,
   "metadata": {
    "collapsed": false,
    "scrolled": true
   },
   "outputs": [
    {
     "name": "stdout",
     "output_type": "stream",
     "text": [
      "\n",
      "C:/Users/BWeaver/Google Drive/FracFocus/FracFocus/FracFocusRegistry_1.csv\n",
      "\n",
      "C:/Users/BWeaver/Google Drive/FracFocus/FracFocus/FracFocusRegistry_10.csv\n",
      "\n",
      "C:/Users/BWeaver/Google Drive/FracFocus/FracFocus/FracFocusRegistry_11.csv\n"
     ]
    },
    {
     "name": "stderr",
     "output_type": "stream",
     "text": [
      "C:\\Users\\BWeaver\\AppData\\Local\\Continuum\\Anaconda3\\lib\\site-packages\\IPython\\core\\interactiveshell.py:2717: DtypeWarning: Columns (35) have mixed types. Specify dtype option on import or set low_memory=False.\n",
      "  interactivity=interactivity, compiler=compiler, result=result)\n"
     ]
    },
    {
     "name": "stdout",
     "output_type": "stream",
     "text": [
      "\n",
      "C:/Users/BWeaver/Google Drive/FracFocus/FracFocus/FracFocusRegistry_12.csv\n",
      "\n",
      "C:/Users/BWeaver/Google Drive/FracFocus/FracFocus/FracFocusRegistry_13.csv\n",
      "\n",
      "C:/Users/BWeaver/Google Drive/FracFocus/FracFocus/FracFocusRegistry_2.csv\n",
      "\n",
      "C:/Users/BWeaver/Google Drive/FracFocus/FracFocus/FracFocusRegistry_3.csv\n",
      "\n",
      "C:/Users/BWeaver/Google Drive/FracFocus/FracFocus/FracFocusRegistry_4.csv\n",
      "\n",
      "C:/Users/BWeaver/Google Drive/FracFocus/FracFocus/FracFocusRegistry_5.csv\n",
      "\n",
      "C:/Users/BWeaver/Google Drive/FracFocus/FracFocus/FracFocusRegistry_6.csv\n",
      "\n",
      "C:/Users/BWeaver/Google Drive/FracFocus/FracFocus/FracFocusRegistry_7.csv\n",
      "\n",
      "C:/Users/BWeaver/Google Drive/FracFocus/FracFocus/FracFocusRegistry_8.csv\n",
      "\n",
      "C:/Users/BWeaver/Google Drive/FracFocus/FracFocus/FracFocusRegistry_9.csv\n"
     ]
    }
   ],
   "source": [
    "for file in FracFocusRegistry_files:\n",
    "    print(file)\n",
    "    df = pd.read_csv(mypath + '/' + file)\n",
    "    df.to_sql('FracFocusRegistry', conn, if_exists='append', index=False)\n",
    "print('Complete!')"
   ]
  },
  {
   "cell_type": "markdown",
   "metadata": {},
   "source": [
    "Next we upload the registryupload"
   ]
  },
  {
   "cell_type": "code",
   "execution_count": 31,
   "metadata": {
    "collapsed": false,
    "scrolled": true
   },
   "outputs": [
    {
     "name": "stdout",
     "output_type": "stream",
     "text": [
      "registryupload_1.csv\n",
      "registryupload_2.csv\n",
      "Complete\n"
     ]
    }
   ],
   "source": [
    "for file in registryupload_files:\n",
    "    print(file)\n",
    "    df = pd.read_csv(mypath + '/' + file)\n",
    "    df.to_sql('registryupload', conn, if_exists='append', index=False)\n",
    "print('Complete!')"
   ]
  },
  {
   "cell_type": "markdown",
   "metadata": {},
   "source": [
    "Next close the connections"
   ]
  },
  {
   "cell_type": "code",
   "execution_count": 32,
   "metadata": {
    "collapsed": true
   },
   "outputs": [],
   "source": [
    "cur.close()\n",
    "conn.close()"
   ]
  }
 ],
 "metadata": {
  "kernelspec": {
   "display_name": "Python 3",
   "language": "python",
   "name": "python3"
  },
  "language_info": {
   "codemirror_mode": {
    "name": "ipython",
    "version": 3
   },
   "file_extension": ".py",
   "mimetype": "text/x-python",
   "name": "python",
   "nbconvert_exporter": "python",
   "pygments_lexer": "ipython3",
   "version": "3.6.0"
  }
 },
 "nbformat": 4,
 "nbformat_minor": 2
}
