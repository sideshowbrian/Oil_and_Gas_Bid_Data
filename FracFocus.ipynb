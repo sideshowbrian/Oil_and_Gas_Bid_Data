{
 "cells": [
  {
   "cell_type": "markdown",
   "metadata": {},
   "source": [
    "First bring in the csv files and drop them into a sqlite databse"
   ]
  },
  {
   "cell_type": "code",
   "execution_count": 6,
   "metadata": {},
   "outputs": [],
   "source": [
    "import sqlite3                     #Bring in Sqlite for the database\n",
    "from os import listdir             #Bring in OS to read all the files\n",
    "from os.path import isfile, join      "
   ]
  },
  {
   "cell_type": "markdown",
   "metadata": {},
   "source": [
    "Loop throught the file names in the folder"
   ]
  },
  {
   "cell_type": "code",
   "execution_count": 29,
   "metadata": {},
   "outputs": [],
   "source": [
    "mypath = '/Users/brianweaver/Google Drive/FracFocus'\n",
    "onlyfiles = [f for f in listdir(mypath) if isfile(join(mypath, f))]\n",
    "\n",
    "FracFocusRegistry_files = list()\n",
    "registryupload_files = list()\n",
    "\n",
    "for file in onlyfiles:\n",
    "    if file[:4] == 'Frac':\n",
    "        FracFocusRegistry_files.append(file)\n",
    "    elif file[:4] == 'regi':\n",
    "        registryupload_files.append(file)"
   ]
  },
  {
   "cell_type": "markdown",
   "metadata": {},
   "source": [
    "Build the SQLite database if the file isn't there.  If it is then delete the FracFocusRegistry and registryupload tables.  Then rebuild them with all the correct headers"
   ]
  },
  {
   "cell_type": "code",
   "execution_count": 38,
   "metadata": {},
   "outputs": [
    {
     "data": {
      "text/plain": [
       "<sqlite3.Cursor at 0x110dbe030>"
      ]
     },
     "execution_count": 38,
     "metadata": {},
     "output_type": "execute_result"
    }
   ],
   "source": [
    "conn = sqlite3.connect(mypath + '/FracFocus.sqlite')\n",
    "cur = conn.cursor()\n",
    "\n",
    "cur.execute('''\n",
    "DROP TABLE IF EXISTS FracFocusRegistry;\n",
    "''')\n",
    "cur.execute('''\n",
    "CREATE TABLE FracFocusRegistry (\n",
    "    pKey TEXT NOT NULL PRIMARY KEY,\n",
    "    JobStartDate              NUMERIC,\n",
    "    JobEndDate                NUMERIC,\n",
    "    APINumber                 TEXT,\n",
    "    StateNumber               NUMERIC,\n",
    "    CountyNumber              NUMERIC,\n",
    "    OperatorName              TEXT,\n",
    "    WellName                  TEXT,\n",
    "    Latitude                  TEXT,\n",
    "    Longitude                 TEXT,\n",
    "    Projection                TEXT,\n",
    "    TVD                       TEXT,\n",
    "    TotalBaseWaterVolume      TEXT,\n",
    "    TotalBaseNonWaterVolume   TEXT,\n",
    "    StateName                 TEXT,\n",
    "    CountyName                TEXT,\n",
    "    FFVersion                 TEXT,\n",
    "    FederalWell               TEXT,\n",
    "    IndianWell                TEXT,\n",
    "    Source                    TEXT,\n",
    "    DTMOD                     TEXT,\n",
    "    PurposeKey                TEXT,\n",
    "    TradeName                 TEXT,\n",
    "    Supplier                  TEXT,\n",
    "    Purpose                   TEXT,\n",
    "    SystemApproach            TEXT,\n",
    "    IsWater                   TEXT,\n",
    "    PurposePercentHFJob       TEXT,\n",
    "    PurposeIngredientMSDS     TEXT,\n",
    "    IngredientKey             TEXT,\n",
    "    IngredientName            TEXT,\n",
    "    CASNumber                 TEXT,\n",
    "    PercentHighAdditive       TEXT,\n",
    "    PercentHFJob              TEXT,\n",
    "    IngredientComment         TEXT,\n",
    "    IngredientMSDS            TEXT,\n",
    "    MassIngredient            TEXT,\n",
    "    ClaimantCompany           TEXT,\n",
    "    DisclosureKey             TEXT\n",
    "    \n",
    ");\n",
    "''')\n",
    "\n",
    "cur.execute('''\n",
    "DROP TABLE IF EXISTS registryupload;\n",
    "''')\n",
    "\n",
    "cur.execute('''\n",
    "CREATE TABLE registryupload (\n",
    "    pKey                      TEXT NOT NULL PRIMARY KEY,\n",
    "    JobStartDate              NUMERIC,\n",
    "    JobEndDate                NUMERIC,\n",
    "    APINumber                 TEXT,\n",
    "    StateNumber               NUMERIC,\n",
    "    CountyNumber              NUMERIC,\n",
    "    OperatorName              TEXT,\n",
    "    WellName                  TEXT,\n",
    "    Latitude                  TEXT,\n",
    "    Longitude                 TEXT,\n",
    "    Projection                TEXT,\n",
    "    TVD                       TEXT,\n",
    "    TotalBaseWaterVolume      TEXT,\n",
    "    TotalBaseNonWaterVolume   TEXT,\n",
    "    StateName                 TEXT,\n",
    "    CountyName                TEXT,\n",
    "    FFVersion                 TEXT,\n",
    "    FederalWell               TEXT,\n",
    "    IndianWell                TEXT,\n",
    "    Source                    TEXT,\n",
    "    DTMOD                     TEXT\n",
    ");\n",
    "''')\n"
   ]
  },
  {
   "cell_type": "markdown",
   "metadata": {},
   "source": [
    "Now that the database is built we'll start loading it with data from the csv files"
   ]
  },
  {
   "cell_type": "code",
   "execution_count": null,
   "metadata": {},
   "outputs": [],
   "source": []
  }
 ],
 "metadata": {
  "kernelspec": {
   "display_name": "Python 3",
   "language": "python",
   "name": "python3"
  },
  "language_info": {
   "codemirror_mode": {
    "name": "ipython",
    "version": 3
   },
   "file_extension": ".py",
   "mimetype": "text/x-python",
   "name": "python",
   "nbconvert_exporter": "python",
   "pygments_lexer": "ipython3",
   "version": "3.5.4"
  }
 },
 "nbformat": 4,
 "nbformat_minor": 2
}
